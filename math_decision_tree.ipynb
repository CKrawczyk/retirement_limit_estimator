{
 "cells": [
  {
   "cell_type": "markdown",
   "metadata": {},
   "source": [
    "# Decision tree math for citizen science classifications"
   ]
  },
  {
   "cell_type": "markdown",
   "metadata": {},
   "source": [
    "##### Coleman Krawczyk (University of Portsmouth); converted to iPython notebook by Kyle Willett (University of Minnesota)"
   ]
  },
  {
   "cell_type": "markdown",
   "metadata": {},
   "source": [
    "Extends analysis of *SpaceWarps* project to full decision trees consisting of multiple choice questions (eg, *Galaxy Zoo*)"
   ]
  },
  {
   "cell_type": "markdown",
   "metadata": {},
   "source": [
    "### Case 1: One question in the workflow"
   ]
  },
  {
   "cell_type": "markdown",
   "metadata": {},
   "source": [
    "Let $M$ be a confusion matrix of the form:\n",
    "\n",
    "$M_{ij} = P[i_{vote}|j_{ans}]$\n",
    "\n",
    "where $P$ is the probability that a user votes $i$ when the true answer is $j$. A singular matrix (where elements along the diagonal $i=j$ are equal to 1 and all other $M_{i\\ne j}=0$) would correspond to a perfect classifier. "
   ]
  },
  {
   "cell_type": "code",
   "execution_count": 1,
   "metadata": {
    "collapsed": false
   },
   "outputs": [
    {
     "name": "stdout",
     "output_type": "stream",
     "text": [
      "Perfect classifier\n",
      "[[ 1.  0.]\n",
      " [ 0.  1.]]\n",
      "\n",
      "Random classifier\n",
      "[[ 0.5  0.5]\n",
      " [ 0.5  0.5]]\n"
     ]
    }
   ],
   "source": [
    "# Example classifiers for SpaceWarps\n",
    "\n",
    "import numpy as np\n",
    "\n",
    "pc = np.identity(2)\n",
    "rc = np.zeros_like(pc) + 0.5\n",
    "\n",
    "print \"Perfect classifier\"\n",
    "print pc\n",
    "print \"\\nRandom classifier\"\n",
    "print rc"
   ]
  },
  {
   "cell_type": "markdown",
   "metadata": {},
   "source": [
    "Using Bayes' theorem, we can solve for the probability that $j$ will be the answer if the **last** vote given was $i$:\n",
    "\n",
    "$P[j_{ans}|i_{vote}] = \\frac{P[i_{vote}|j_{ans}]P[j_{ans}]}{P[i_{vote}]}$\n",
    "\n",
    "where $P[j_{ans}]$ is the prior probability that $j$ is the answer."
   ]
  },
  {
   "cell_type": "markdown",
   "metadata": {},
   "source": [
    "The first term in the numerator is our definition of the confusion matrix $M$ above. The term in the denominator is the normalization. We can put this in terms of $M$ by noting that the total probabilities must sum to 1 (assuming an answer must exist), so:\n",
    "\n",
    "$1 = \\sum\\limits_{j_{ans}}P[j_{ans}|i_{vote}]$.\n",
    "\n",
    "Multiplying both sides by $P[i_{vote}]$:\n",
    "\n",
    "$P[i_{vote}] = P[i_{vote}]\\sum\\limits_{j_{ans}}P[j_{ans}|i_{vote}]$.\n",
    "\n",
    "From Bayes' theorem:\n",
    "\n",
    "$P[j_{ans}|i_{vote}] = \\frac{P[i_{vote}|j_{ans}]P[j_{ans}]}{P[i_{vote}]} = \\frac{M_{ij}P[j_{ans}]}{P[i_{vote}]}$\n",
    "\n",
    "and so\n",
    "\n",
    "$P[i_{vote}] = P[i_{vote}]\\sum\\limits_{j_{ans}}\\frac{M_{ij}P[j_{ans}]}{P[i_{vote}]} = \\sum\\limits_{j_{ans}}M_{ij}P[j_{ans}]$.\n",
    "\n",
    "This makes sense - the probability of a user voting for $i$ is the sum of all the weighted probabilities that can lead there given the true answer $j$.\n",
    "\n",
    "Substituting both expressions in the numerator and denominator, this gives:\n",
    "\n",
    "$P[j_{ans}|i_{vote}] = \\frac{M_{ij}P[j_{ans}]}{\\sum\\limits_{j_{ans}} \\left(M_{ij}P[j_{ans}]\\right)}$"
   ]
  },
  {
   "cell_type": "markdown",
   "metadata": {},
   "source": [
    "### Case 2: Multiple questions in the workflow"
   ]
  },
  {
   "cell_type": "markdown",
   "metadata": {},
   "source": [
    "Let the probability that the *previous* question leads to the current question $k$ be:\n",
    "\n",
    "$P[T_{k-1} \\rightarrow T_k] = P[T_k]$"
   ]
  },
  {
   "cell_type": "markdown",
   "metadata": {},
   "source": [
    "Then the probability that the question is missed is simply the complement of $P[T_k]$:\n",
    "\n",
    "$P[T_{k-1} \\not\\rightarrow T_k] = P[\\bar T_k] = 1 - P[T_k]$"
   ]
  },
  {
   "cell_type": "markdown",
   "metadata": {},
   "source": [
    "The confusion matrix $M_{ij}$ now needs to take into account the probability that the question is either seen or missed. If the question is seen, then:\n",
    "\n",
    "$M_{i\\ne miss,j} = P[T_k]P[i_{vote}|j_{ans}]$.\n",
    "\n",
    "If the question is missed:\n",
    "\n",
    "$M_{i=miss,j} = P[\\bar T_k)P[miss_{vote}|j_{ans}] = \\left(1 - P[T_k]\\right)P[miss_{vote}|j_{ans}]$.\n",
    "\n",
    "In this case, the confusion matrix requires a new column to indicate the probability of voting for each choice with the true answer is \"miss\". A prior is also required for the chance of a \"true miss\". "
   ]
  },
  {
   "cell_type": "markdown",
   "metadata": {},
   "source": [
    "To normalize the total probability, the columns of $M$ must sum to 1 for all $j_{ans}$:\n",
    "\n",
    "$\\sum\\limits_{i\\ne miss}\\left(P[T_k]P[i_{vote}|j_{ans}]\\right) + P[\\bar T_k]P[miss_{vote}|j_{ans}] = 1$.\n",
    "\n",
    "We assume that the probability that the previous question leads to this does not affect the likelihood of it being a miss, so $P[T_k]$ can be removed from the sum:\n",
    "\n",
    "$P[T_k]\\sum\\limits_{i\\ne miss}\\left(P[i_{vote}|j_{ans}]\\right) + P[\\bar T_k]P[miss_{vote}|j_{ans}] = 1$\n",
    "\n",
    "Now if the task is answered by the user, they can't vote for \"miss\" by definition. So the summation of the first term above must be 1:\n",
    "\n",
    "$P[T_k] + P[\\bar T_k]P[miss_{vote}|j_{ans}] = 1$\n",
    "\n",
    "Substituting in the definition of $P[\\bar T_k]$:\n",
    "\n",
    "$P[T_k] + \\left(1 - P[T_k]\\right)P[miss_{vote}|j_{ans}] = 1$\n",
    "\n",
    "$\\implies P[miss_{vote}|j_{ans}] = 1$"
   ]
  },
  {
   "cell_type": "markdown",
   "metadata": {},
   "source": [
    "So this gives two separate scenarios: one where the question is seen and answered, and one where it's missed due to an earlier branch in the tree. We can invert both scenarios to get the posterior version using Bayes' Theorem in the same way that we did above. "
   ]
  },
  {
   "cell_type": "markdown",
   "metadata": {},
   "source": [
    "#### If question is answered:"
   ]
  },
  {
   "cell_type": "markdown",
   "metadata": {},
   "source": [
    "$P[j_{ans}|i_{vote}] = \\frac{M_{ij}P[j_{ans}]}{\\sum\\limits_{j_{ans}}\\left(M_{ij}P[j_{ans}]\\right)}$\n",
    "\n",
    "Substituting:\n",
    "\n",
    "$P[j_{ans}|i_{vote}] = \\frac{P[T_k] P[i_{vote}|j_{ans}] P[j_{ans}]}{P[T_k]\\sum\\limits_{j_{ans}}\\left( P[i_{vote}|j_{ans}]P[j_{ans}]\\right)} = \\frac{P[i_{vote}|j_{ans}] P[j_{ans}]}{\\sum\\limits_{j_{ans}}\\left( P[i_{vote}|j_{ans}]P[j_{ans}]\\right)}$\n",
    "\n",
    "So if the question is answered, the ***probability that the task was seen cancels out*** - none of the remaining terms depend on $P[T_k]$. The confusion matrix $M_{ij}$ can be calculated without this information. \n",
    "\n",
    "*What if the question isn't answered?*"
   ]
  },
  {
   "cell_type": "markdown",
   "metadata": {},
   "source": [
    "#### If question is not answered (a miss):"
   ]
  },
  {
   "cell_type": "markdown",
   "metadata": {},
   "source": [
    "$P[j_{ans}|miss_{vote}] = \\frac{M_{i=miss,j}P[j_{ans}]}{P[miss_{vote}]}$\n",
    "\n",
    "Variables on RHS:\n",
    "\n",
    "$M_{i=miss,j} = P[\\bar T_k] P[miss_{vote}|j_{ans}] = P[\\bar T_k]$ (*from above*)\n",
    "\n",
    "$P[miss_{vote}] = P[\\bar T_k] \\sum\\limits_{j_{ans}} P[j_{ans}]$\n",
    "\n",
    "Substituting:\n",
    "\n",
    "$P[j_{ans}|miss_{vote}] = \\frac{P[\\bar T_k]P[j_{ans}]}{P[\\bar T_k] \\sum\\limits_{j_{ans}} P[j_{ans}]}$\n",
    "\n",
    "The probabilities over all $j_{ans}$ must sum to 1, so $P[\\bar T_k]$ cancels out:\n",
    "\n",
    "$P[j_{ans}|miss_{vote}] = \\frac{P[\\bar T_k] P[j_{ans}]}{P[\\bar T_k]} = P[j_{ans}]$\n",
    "\n",
    "\n",
    "So if the question is **not** answered, then the posterior probability is exactly the same as the prior. No information is provided about a given task from the classifications where the question is not seen!"
   ]
  },
  {
   "cell_type": "markdown",
   "metadata": {},
   "source": [
    "### Conclusions\n",
    "\n",
    "The behavior of a user can be characterized by a probability matrix $M_{ij}$ for some set of answers to each task. If a question is not seen by a given user, that information is independent of the information provided for the \"true\" answer to the question being characterized by $M$.  "
   ]
  }
 ],
 "metadata": {
  "kernelspec": {
   "display_name": "Python 2",
   "language": "python",
   "name": "python2"
  },
  "language_info": {
   "codemirror_mode": {
    "name": "ipython",
    "version": 2
   },
   "file_extension": ".py",
   "mimetype": "text/x-python",
   "name": "python",
   "nbconvert_exporter": "python",
   "pygments_lexer": "ipython2",
   "version": "2.7.11"
  }
 },
 "nbformat": 4,
 "nbformat_minor": 0
}
